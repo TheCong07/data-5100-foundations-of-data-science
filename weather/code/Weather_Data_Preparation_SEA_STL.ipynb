{
 "cells": [
  {
   "cell_type": "markdown",
   "id": "0576a8f6",
   "metadata": {},
   "source": [
    "> Load Libraries\n",
    "We start by importing the core libraries for data analysis and visualization. Pandas will be used for handling data, Numpy will be used for calculation methods, and Matplotlib/Seaborn will support charting."
   ]
  },
  {
   "cell_type": "code",
   "execution_count": 2,
   "id": "08182507",
   "metadata": {},
   "outputs": [],
   "source": [
    "import pandas as pd\n",
    "import numpy as np\n",
    "import matplotlib.pyplot as plt\n",
    "\n",
    "# seaborn is a data visualization library built on matplotlib\n",
    "import seaborn as sns\n",
    "\n",
    "# set the plotting style\n",
    "sns.set_style(\"whitegrid\")"
   ]
  },
  {
   "cell_type": "markdown",
   "id": "da7c9796",
   "metadata": {},
   "source": [
    "After this code, these libraries are successfully loaded and allow us to load, clean, analyze, and visualize data."
   ]
  },
  {
   "cell_type": "markdown",
   "id": "beb89b1c",
   "metadata": {},
   "source": [
    "> Load Raw Data\n",
    "Next, we load the NOAA daily precipitation dataset into to a DataFrame."
   ]
  },
  {
   "cell_type": "code",
   "execution_count": 3,
   "id": "b4297840",
   "metadata": {},
   "outputs": [],
   "source": [
    "df_seattle = pd.read_csv('../data/seattle_rain.csv')"
   ]
  },
  {
   "cell_type": "code",
   "execution_count": 4,
   "id": "0b5d41b5",
   "metadata": {},
   "outputs": [
    {
     "data": {
      "text/plain": [
       "pandas.core.frame.DataFrame"
      ]
     },
     "execution_count": 4,
     "metadata": {},
     "output_type": "execute_result"
    }
   ],
   "source": [
    "type(df_seattle)"
   ]
  },
  {
   "cell_type": "code",
   "execution_count": 5,
   "id": "270b29da",
   "metadata": {},
   "outputs": [],
   "source": [
    "df_stlouis = pd.read_csv('../data/stl_rain.csv')"
   ]
  },
  {
   "cell_type": "markdown",
   "id": "79b69168",
   "metadata": {},
   "source": [
    "After the code, we have the data loaded into a DataFrame then we can inspect its structure"
   ]
  },
  {
   "cell_type": "code",
   "execution_count": 6,
   "id": "a917583e",
   "metadata": {},
   "outputs": [
    {
     "data": {
      "text/html": [
       "<div>\n",
       "<style scoped>\n",
       "    .dataframe tbody tr th:only-of-type {\n",
       "        vertical-align: middle;\n",
       "    }\n",
       "\n",
       "    .dataframe tbody tr th {\n",
       "        vertical-align: top;\n",
       "    }\n",
       "\n",
       "    .dataframe thead th {\n",
       "        text-align: right;\n",
       "    }\n",
       "</style>\n",
       "<table border=\"1\" class=\"dataframe\">\n",
       "  <thead>\n",
       "    <tr style=\"text-align: right;\">\n",
       "      <th></th>\n",
       "      <th>STATION</th>\n",
       "      <th>NAME</th>\n",
       "      <th>DATE</th>\n",
       "      <th>DAPR</th>\n",
       "      <th>MDPR</th>\n",
       "      <th>PRCP</th>\n",
       "      <th>SNOW</th>\n",
       "      <th>SNWD</th>\n",
       "      <th>WESD</th>\n",
       "      <th>WESF</th>\n",
       "    </tr>\n",
       "  </thead>\n",
       "  <tbody>\n",
       "    <tr>\n",
       "      <th>0</th>\n",
       "      <td>US1WAKG0225</td>\n",
       "      <td>SEATTLE 2.1 ESE, WA US</td>\n",
       "      <td>1/1/18</td>\n",
       "      <td>NaN</td>\n",
       "      <td>NaN</td>\n",
       "      <td>0.00</td>\n",
       "      <td>NaN</td>\n",
       "      <td>NaN</td>\n",
       "      <td>NaN</td>\n",
       "      <td>NaN</td>\n",
       "    </tr>\n",
       "    <tr>\n",
       "      <th>1</th>\n",
       "      <td>US1WAKG0225</td>\n",
       "      <td>SEATTLE 2.1 ESE, WA US</td>\n",
       "      <td>1/2/18</td>\n",
       "      <td>NaN</td>\n",
       "      <td>NaN</td>\n",
       "      <td>0.00</td>\n",
       "      <td>NaN</td>\n",
       "      <td>NaN</td>\n",
       "      <td>NaN</td>\n",
       "      <td>NaN</td>\n",
       "    </tr>\n",
       "    <tr>\n",
       "      <th>2</th>\n",
       "      <td>US1WAKG0225</td>\n",
       "      <td>SEATTLE 2.1 ESE, WA US</td>\n",
       "      <td>1/3/18</td>\n",
       "      <td>NaN</td>\n",
       "      <td>NaN</td>\n",
       "      <td>0.00</td>\n",
       "      <td>NaN</td>\n",
       "      <td>NaN</td>\n",
       "      <td>NaN</td>\n",
       "      <td>NaN</td>\n",
       "    </tr>\n",
       "    <tr>\n",
       "      <th>3</th>\n",
       "      <td>US1WAKG0225</td>\n",
       "      <td>SEATTLE 2.1 ESE, WA US</td>\n",
       "      <td>1/4/18</td>\n",
       "      <td>NaN</td>\n",
       "      <td>NaN</td>\n",
       "      <td>0.00</td>\n",
       "      <td>NaN</td>\n",
       "      <td>NaN</td>\n",
       "      <td>NaN</td>\n",
       "      <td>NaN</td>\n",
       "    </tr>\n",
       "    <tr>\n",
       "      <th>4</th>\n",
       "      <td>US1WAKG0225</td>\n",
       "      <td>SEATTLE 2.1 ESE, WA US</td>\n",
       "      <td>1/5/18</td>\n",
       "      <td>NaN</td>\n",
       "      <td>NaN</td>\n",
       "      <td>0.25</td>\n",
       "      <td>NaN</td>\n",
       "      <td>NaN</td>\n",
       "      <td>NaN</td>\n",
       "      <td>NaN</td>\n",
       "    </tr>\n",
       "  </tbody>\n",
       "</table>\n",
       "</div>"
      ],
      "text/plain": [
       "       STATION                    NAME    DATE  DAPR  MDPR  PRCP  SNOW  SNWD  \\\n",
       "0  US1WAKG0225  SEATTLE 2.1 ESE, WA US  1/1/18   NaN   NaN  0.00   NaN   NaN   \n",
       "1  US1WAKG0225  SEATTLE 2.1 ESE, WA US  1/2/18   NaN   NaN  0.00   NaN   NaN   \n",
       "2  US1WAKG0225  SEATTLE 2.1 ESE, WA US  1/3/18   NaN   NaN  0.00   NaN   NaN   \n",
       "3  US1WAKG0225  SEATTLE 2.1 ESE, WA US  1/4/18   NaN   NaN  0.00   NaN   NaN   \n",
       "4  US1WAKG0225  SEATTLE 2.1 ESE, WA US  1/5/18   NaN   NaN  0.25   NaN   NaN   \n",
       "\n",
       "   WESD  WESF  \n",
       "0   NaN   NaN  \n",
       "1   NaN   NaN  \n",
       "2   NaN   NaN  \n",
       "3   NaN   NaN  \n",
       "4   NaN   NaN  "
      ]
     },
     "execution_count": 6,
     "metadata": {},
     "output_type": "execute_result"
    }
   ],
   "source": [
    "df_seattle.head()"
   ]
  },
  {
   "cell_type": "code",
   "execution_count": 7,
   "id": "f4adc5c0",
   "metadata": {},
   "outputs": [
    {
     "data": {
      "text/html": [
       "<div>\n",
       "<style scoped>\n",
       "    .dataframe tbody tr th:only-of-type {\n",
       "        vertical-align: middle;\n",
       "    }\n",
       "\n",
       "    .dataframe tbody tr th {\n",
       "        vertical-align: top;\n",
       "    }\n",
       "\n",
       "    .dataframe thead th {\n",
       "        text-align: right;\n",
       "    }\n",
       "</style>\n",
       "<table border=\"1\" class=\"dataframe\">\n",
       "  <thead>\n",
       "    <tr style=\"text-align: right;\">\n",
       "      <th></th>\n",
       "      <th>STATION</th>\n",
       "      <th>NAME</th>\n",
       "      <th>DATE</th>\n",
       "      <th>DAPR</th>\n",
       "      <th>MDPR</th>\n",
       "      <th>PRCP</th>\n",
       "      <th>SNOW</th>\n",
       "      <th>SNWD</th>\n",
       "    </tr>\n",
       "  </thead>\n",
       "  <tbody>\n",
       "    <tr>\n",
       "      <th>0</th>\n",
       "      <td>US1MOSS0027</td>\n",
       "      <td>ST. CHARLES 2.3 NE, MO US</td>\n",
       "      <td>2017-01-01</td>\n",
       "      <td>NaN</td>\n",
       "      <td>NaN</td>\n",
       "      <td>0.00</td>\n",
       "      <td>0.0</td>\n",
       "      <td>NaN</td>\n",
       "    </tr>\n",
       "    <tr>\n",
       "      <th>1</th>\n",
       "      <td>US1MOSS0027</td>\n",
       "      <td>ST. CHARLES 2.3 NE, MO US</td>\n",
       "      <td>2017-01-03</td>\n",
       "      <td>NaN</td>\n",
       "      <td>NaN</td>\n",
       "      <td>0.35</td>\n",
       "      <td>NaN</td>\n",
       "      <td>NaN</td>\n",
       "    </tr>\n",
       "    <tr>\n",
       "      <th>2</th>\n",
       "      <td>US1MOSS0027</td>\n",
       "      <td>ST. CHARLES 2.3 NE, MO US</td>\n",
       "      <td>2017-01-04</td>\n",
       "      <td>NaN</td>\n",
       "      <td>NaN</td>\n",
       "      <td>0.03</td>\n",
       "      <td>NaN</td>\n",
       "      <td>NaN</td>\n",
       "    </tr>\n",
       "    <tr>\n",
       "      <th>3</th>\n",
       "      <td>US1MOSS0027</td>\n",
       "      <td>ST. CHARLES 2.3 NE, MO US</td>\n",
       "      <td>2017-01-05</td>\n",
       "      <td>NaN</td>\n",
       "      <td>NaN</td>\n",
       "      <td>0.04</td>\n",
       "      <td>1.2</td>\n",
       "      <td>NaN</td>\n",
       "    </tr>\n",
       "    <tr>\n",
       "      <th>4</th>\n",
       "      <td>US1MOSS0027</td>\n",
       "      <td>ST. CHARLES 2.3 NE, MO US</td>\n",
       "      <td>2017-01-06</td>\n",
       "      <td>NaN</td>\n",
       "      <td>NaN</td>\n",
       "      <td>0.00</td>\n",
       "      <td>0.0</td>\n",
       "      <td>1.0</td>\n",
       "    </tr>\n",
       "  </tbody>\n",
       "</table>\n",
       "</div>"
      ],
      "text/plain": [
       "       STATION                       NAME        DATE  DAPR  MDPR  PRCP  SNOW  \\\n",
       "0  US1MOSS0027  ST. CHARLES 2.3 NE, MO US  2017-01-01   NaN   NaN  0.00   0.0   \n",
       "1  US1MOSS0027  ST. CHARLES 2.3 NE, MO US  2017-01-03   NaN   NaN  0.35   NaN   \n",
       "2  US1MOSS0027  ST. CHARLES 2.3 NE, MO US  2017-01-04   NaN   NaN  0.03   NaN   \n",
       "3  US1MOSS0027  ST. CHARLES 2.3 NE, MO US  2017-01-05   NaN   NaN  0.04   1.2   \n",
       "4  US1MOSS0027  ST. CHARLES 2.3 NE, MO US  2017-01-06   NaN   NaN  0.00   0.0   \n",
       "\n",
       "   SNWD  \n",
       "0   NaN  \n",
       "1   NaN  \n",
       "2   NaN  \n",
       "3   NaN  \n",
       "4   1.0  "
      ]
     },
     "execution_count": 7,
     "metadata": {},
     "output_type": "execute_result"
    }
   ],
   "source": [
    "df_stlouis.head()"
   ]
  },
  {
   "cell_type": "markdown",
   "id": "8101a7ad",
   "metadata": {},
   "source": [
    "from the inspection, we can see that they don't have equivilent in columns and missing lot of data. Next, we can extract only the columns to see what columns in each dataset."
   ]
  },
  {
   "cell_type": "code",
   "execution_count": 8,
   "id": "ce3c3d4c",
   "metadata": {},
   "outputs": [
    {
     "data": {
      "text/plain": [
       "Index(['STATION', 'NAME', 'DATE', 'DAPR', 'MDPR', 'PRCP', 'SNOW', 'SNWD',\n",
       "       'WESD', 'WESF'],\n",
       "      dtype='object')"
      ]
     },
     "execution_count": 8,
     "metadata": {},
     "output_type": "execute_result"
    }
   ],
   "source": [
    "df_seattle.columns"
   ]
  },
  {
   "cell_type": "code",
   "execution_count": 9,
   "id": "1aa4eb6f",
   "metadata": {},
   "outputs": [
    {
     "data": {
      "text/plain": [
       "Index(['STATION', 'NAME', 'DATE', 'DAPR', 'MDPR', 'PRCP', 'SNOW', 'SNWD'], dtype='object')"
      ]
     },
     "execution_count": 9,
     "metadata": {},
     "output_type": "execute_result"
    }
   ],
   "source": [
    "df_stlouis.columns"
   ]
  },
  {
   "cell_type": "markdown",
   "id": "ee090ef1",
   "metadata": {},
   "source": [
    "from the code above, we can clearly see how different in the columns of each dataset, then we check the missing values in each columns and their type of data."
   ]
  },
  {
   "cell_type": "code",
   "execution_count": 10,
   "id": "57242bb9",
   "metadata": {},
   "outputs": [
    {
     "name": "stdout",
     "output_type": "stream",
     "text": [
      "<class 'pandas.core.frame.DataFrame'>\n",
      "RangeIndex: 1658 entries, 0 to 1657\n",
      "Data columns (total 10 columns):\n",
      " #   Column   Non-Null Count  Dtype  \n",
      "---  ------   --------------  -----  \n",
      " 0   STATION  1658 non-null   object \n",
      " 1   NAME     1658 non-null   object \n",
      " 2   DATE     1658 non-null   object \n",
      " 3   DAPR     23 non-null     float64\n",
      " 4   MDPR     23 non-null     float64\n",
      " 5   PRCP     1636 non-null   float64\n",
      " 6   SNOW     353 non-null    float64\n",
      " 7   SNWD     66 non-null     float64\n",
      " 8   WESD     15 non-null     float64\n",
      " 9   WESF     28 non-null     float64\n",
      "dtypes: float64(7), object(3)\n",
      "memory usage: 129.7+ KB\n"
     ]
    }
   ],
   "source": [
    "df_seattle.info()"
   ]
  },
  {
   "cell_type": "code",
   "execution_count": 11,
   "id": "aaeabf67",
   "metadata": {},
   "outputs": [
    {
     "name": "stdout",
     "output_type": "stream",
     "text": [
      "<class 'pandas.core.frame.DataFrame'>\n",
      "RangeIndex: 54574 entries, 0 to 54573\n",
      "Data columns (total 8 columns):\n",
      " #   Column   Non-Null Count  Dtype  \n",
      "---  ------   --------------  -----  \n",
      " 0   STATION  54574 non-null  object \n",
      " 1   NAME     54574 non-null  object \n",
      " 2   DATE     54574 non-null  object \n",
      " 3   DAPR     1166 non-null   float64\n",
      " 4   MDPR     1163 non-null   float64\n",
      " 5   PRCP     53143 non-null  float64\n",
      " 6   SNOW     33167 non-null  float64\n",
      " 7   SNWD     12835 non-null  float64\n",
      "dtypes: float64(5), object(3)\n",
      "memory usage: 3.3+ MB\n"
     ]
    }
   ],
   "source": [
    "df_stlouis.info()"
   ]
  },
  {
   "cell_type": "code",
   "execution_count": 12,
   "id": "5acc5f77",
   "metadata": {},
   "outputs": [
    {
     "name": "stdout",
     "output_type": "stream",
     "text": [
      "(1658, 10)\n"
     ]
    }
   ],
   "source": [
    "print(df_seattle.shape)"
   ]
  },
  {
   "cell_type": "code",
   "execution_count": 13,
   "id": "cad2f90b",
   "metadata": {},
   "outputs": [
    {
     "name": "stdout",
     "output_type": "stream",
     "text": [
      "(54574, 8)\n"
     ]
    }
   ],
   "source": [
    "print(df_stlouis.shape)"
   ]
  },
  {
   "cell_type": "markdown",
   "id": "60e3dad9",
   "metadata": {},
   "source": [
    "from the code above, we can see that St Louis contain a lot of dataset much more than other dataset that could be caused by contain many stations. We then need to check the data of station columns"
   ]
  },
  {
   "cell_type": "code",
   "execution_count": 14,
   "id": "41d465e2",
   "metadata": {},
   "outputs": [
    {
     "data": {
      "text/plain": [
       "0        US1MOSS0027\n",
       "1        US1MOSS0027\n",
       "2        US1MOSS0027\n",
       "3        US1MOSS0027\n",
       "4        US1MOSS0027\n",
       "            ...     \n",
       "54569    US1MOSL0084\n",
       "54570    US1MOSL0084\n",
       "54571    US1MOSL0084\n",
       "54572    US1MOSL0084\n",
       "54573    US1MOSL0084\n",
       "Name: STATION, Length: 54574, dtype: object"
      ]
     },
     "execution_count": 14,
     "metadata": {},
     "output_type": "execute_result"
    }
   ],
   "source": [
    "df_stlouis['STATION']"
   ]
  },
  {
   "cell_type": "code",
   "execution_count": 15,
   "id": "9b19a713",
   "metadata": {},
   "outputs": [
    {
     "data": {
      "text/plain": [
       "array(['US1MOSS0027', 'US1MOSL0019', 'US1MOSL0018', 'US1MOSL0039',\n",
       "       'US1MOSLC010', 'US1ILSC0009', 'US1MOSL0050', 'US1MOJF0018',\n",
       "       'US1MOSL0070', 'US1MOSL0092', 'US1MOSL0079', 'US1MOSL0056',\n",
       "       'US1MOSL0055', 'US1MOSL0077', 'US1ILMD0047', 'US1MOSL0054',\n",
       "       'US1MOSL0076', 'US1MOSL0074', 'US1MOSLC007', 'US1MOFSA189',\n",
       "       'US1MOSL0027', 'US1MOSL0049', 'US1MOSL0004', 'USC00237397',\n",
       "       'USC00237452', 'USC00237398', 'US1ILSC0018', 'US1MOSS0034',\n",
       "       'USW00003960', 'US1MOSL0083', 'US1ILMO0006', 'US1MOSL0081',\n",
       "       'US1MOJF0025', 'US1MOSS0051', 'US1ILMD0010', 'US1MOSL0024',\n",
       "       'US1MOSL0045', 'US1MOSL0067', 'US1MOSL0020', 'US1ILMD0012',\n",
       "       'US1MOSL0063', 'USW00013994', 'US1MOSL0062', 'US1MOSL0084'],\n",
       "      dtype=object)"
      ]
     },
     "execution_count": 15,
     "metadata": {},
     "output_type": "execute_result"
    }
   ],
   "source": [
    "df_stlouis['STATION'].unique()"
   ]
  },
  {
   "cell_type": "code",
   "execution_count": 16,
   "id": "62f82c95",
   "metadata": {},
   "outputs": [
    {
     "data": {
      "text/plain": [
       "44"
      ]
     },
     "execution_count": 16,
     "metadata": {},
     "output_type": "execute_result"
    }
   ],
   "source": [
    "df_stlouis['STATION'].nunique()"
   ]
  },
  {
   "cell_type": "code",
   "execution_count": 17,
   "id": "63a60a67",
   "metadata": {},
   "outputs": [
    {
     "data": {
      "text/plain": [
       "1"
      ]
     },
     "execution_count": 17,
     "metadata": {},
     "output_type": "execute_result"
    }
   ],
   "source": [
    "df_seattle['STATION'].nunique()"
   ]
  },
  {
   "cell_type": "markdown",
   "id": "7110a580",
   "metadata": {},
   "source": [
    "from the code above, we notice that the St Louis contain 44 unique stations that cause the data much more than other dataset. From the dataset information that we got from above, we know that the data type of date column is object, so we may have problem with type of Date Time. For this problem, we need to change the data to the correct type of Date."
   ]
  },
  {
   "cell_type": "code",
   "execution_count": 18,
   "id": "9a8f8417",
   "metadata": {},
   "outputs": [
    {
     "data": {
      "text/plain": [
       "0        2017-01-01\n",
       "1        2017-01-03\n",
       "2        2017-01-04\n",
       "3        2017-01-05\n",
       "4        2017-01-06\n",
       "            ...    \n",
       "54569    2022-12-08\n",
       "54570    2022-12-13\n",
       "54571    2022-12-14\n",
       "54572    2022-12-15\n",
       "54573    2022-12-16\n",
       "Name: DATE, Length: 54574, dtype: object"
      ]
     },
     "execution_count": 18,
     "metadata": {},
     "output_type": "execute_result"
    }
   ],
   "source": [
    "df_stlouis['DATE']"
   ]
  },
  {
   "cell_type": "code",
   "execution_count": 19,
   "id": "caa18f8b",
   "metadata": {},
   "outputs": [
    {
     "data": {
      "text/plain": [
       "'9/9/22'"
      ]
     },
     "execution_count": 19,
     "metadata": {},
     "output_type": "execute_result"
    }
   ],
   "source": [
    "df_seattle['DATE'].max()"
   ]
  },
  {
   "cell_type": "code",
   "execution_count": 20,
   "id": "a0c658a7",
   "metadata": {},
   "outputs": [
    {
     "data": {
      "text/plain": [
       "1653    12/27/22\n",
       "1654    12/28/22\n",
       "1655    12/29/22\n",
       "1656    12/30/22\n",
       "1657    12/31/22\n",
       "Name: DATE, dtype: object"
      ]
     },
     "execution_count": 20,
     "metadata": {},
     "output_type": "execute_result"
    }
   ],
   "source": [
    "df_seattle['DATE'].tail()"
   ]
  },
  {
   "cell_type": "markdown",
   "id": "1a97a1cc",
   "metadata": {},
   "source": [
    "After checking the max date of Seattle using the max function, it return the value of '9/9/22' but the actual data from tail method is '12/31/22'. Therefore, the current data type of date is incorrect for Seattle's dataset. Next step is change the type and reassign the values back to the Date column."
   ]
  },
  {
   "cell_type": "code",
   "execution_count": 21,
   "id": "e8dc93aa",
   "metadata": {},
   "outputs": [
    {
     "name": "stderr",
     "output_type": "stream",
     "text": [
      "/var/folders/hm/_316rgmd4v763bh_ttk3pzkr0000gn/T/ipykernel_58528/3087519436.py:1: UserWarning: Could not infer format, so each element will be parsed individually, falling back to `dateutil`. To ensure parsing is consistent and as-expected, please specify a format.\n",
      "  df_seattle['DATE'] = pd.to_datetime(df_seattle['DATE'])\n"
     ]
    }
   ],
   "source": [
    "df_seattle['DATE'] = pd.to_datetime(df_seattle['DATE'])"
   ]
  },
  {
   "cell_type": "code",
   "execution_count": 22,
   "id": "f1ea1949",
   "metadata": {},
   "outputs": [],
   "source": [
    "df_stlouis['DATE'] = pd.to_datetime(df_stlouis['DATE'])"
   ]
  },
  {
   "cell_type": "code",
   "execution_count": 23,
   "id": "f1f08fb3",
   "metadata": {},
   "outputs": [
    {
     "data": {
      "text/plain": [
       "0      2018-01-01\n",
       "1      2018-01-02\n",
       "2      2018-01-03\n",
       "3      2018-01-04\n",
       "4      2018-01-05\n",
       "          ...    \n",
       "1653   2022-12-27\n",
       "1654   2022-12-28\n",
       "1655   2022-12-29\n",
       "1656   2022-12-30\n",
       "1657   2022-12-31\n",
       "Name: DATE, Length: 1658, dtype: datetime64[ns]"
      ]
     },
     "execution_count": 23,
     "metadata": {},
     "output_type": "execute_result"
    }
   ],
   "source": [
    "df_seattle['DATE']"
   ]
  },
  {
   "cell_type": "code",
   "execution_count": 24,
   "id": "38e6cf8e",
   "metadata": {},
   "outputs": [
    {
     "data": {
      "text/plain": [
       "0       2017-01-01\n",
       "1       2017-01-03\n",
       "2       2017-01-04\n",
       "3       2017-01-05\n",
       "4       2017-01-06\n",
       "           ...    \n",
       "54569   2022-12-08\n",
       "54570   2022-12-13\n",
       "54571   2022-12-14\n",
       "54572   2022-12-15\n",
       "54573   2022-12-16\n",
       "Name: DATE, Length: 54574, dtype: datetime64[ns]"
      ]
     },
     "execution_count": 24,
     "metadata": {},
     "output_type": "execute_result"
    }
   ],
   "source": [
    "df_stlouis['DATE']"
   ]
  },
  {
   "cell_type": "code",
   "execution_count": 25,
   "id": "a9f671d8",
   "metadata": {},
   "outputs": [
    {
     "data": {
      "text/plain": [
       "Timestamp('2018-01-01 00:00:00')"
      ]
     },
     "execution_count": 25,
     "metadata": {},
     "output_type": "execute_result"
    }
   ],
   "source": [
    "df_seattle['DATE'].min()"
   ]
  },
  {
   "cell_type": "code",
   "execution_count": 26,
   "id": "31dbd3f8",
   "metadata": {},
   "outputs": [
    {
     "data": {
      "text/plain": [
       "Timestamp('2022-12-31 00:00:00')"
      ]
     },
     "execution_count": 26,
     "metadata": {},
     "output_type": "execute_result"
    }
   ],
   "source": [
    "df_seattle['DATE'].max()"
   ]
  },
  {
   "cell_type": "code",
   "execution_count": 27,
   "id": "81a8ea54",
   "metadata": {},
   "outputs": [
    {
     "data": {
      "text/plain": [
       "min   2018-01-01\n",
       "max   2022-12-31\n",
       "Name: DATE, dtype: datetime64[ns]"
      ]
     },
     "execution_count": 27,
     "metadata": {},
     "output_type": "execute_result"
    }
   ],
   "source": [
    "df_seattle['DATE'].agg(['min', 'max'])"
   ]
  },
  {
   "cell_type": "code",
   "execution_count": 28,
   "id": "588202af",
   "metadata": {},
   "outputs": [
    {
     "data": {
      "text/plain": [
       "min   2017-01-01\n",
       "max   2022-12-31\n",
       "Name: DATE, dtype: datetime64[ns]"
      ]
     },
     "execution_count": 28,
     "metadata": {},
     "output_type": "execute_result"
    }
   ],
   "source": [
    "df_stlouis['DATE'].agg(['min', 'max'])"
   ]
  },
  {
   "cell_type": "markdown",
   "id": "ab1af22f",
   "metadata": {},
   "source": [
    "After fixing the data type of date column, these dataset now contain the correct type of date for next step that show the visualization for date and precipitation."
   ]
  },
  {
   "cell_type": "code",
   "execution_count": 29,
   "id": "037734e0",
   "metadata": {},
   "outputs": [
    {
     "data": {
      "image/png": "[encoded data removed]",
      "text/plain": [
       "<Figure size 2000x500 with 1 Axes>"
      ]
     },
     "metadata": {},
     "output_type": "display_data"
    }
   ],
   "source": [
    "plt.figure(figsize=(20, 5))\n",
    "\n",
    "sns.lineplot(data=df_seattle, x='DATE', y = 'PRCP')\n",
    "\n",
    "plt.xlabel('Date', fontsize=18)\n",
    "plt.ylabel('Precipitation (inches)', fontsize=18)\n",
    "\n",
    "plt.tick_params(labelsize=15)\n",
    "\n",
    "plt.show()"
   ]
  },
  {
   "cell_type": "code",
   "execution_count": 30,
   "id": "69d32c20",
   "metadata": {},
   "outputs": [
    {
     "data": {
      "image/png": "[encoded data removed]",
      "text/plain": [
       "<Figure size 2000x500 with 1 Axes>"
      ]
     },
     "metadata": {},
     "output_type": "display_data"
    }
   ],
   "source": [
    "plt.figure(figsize=(20, 5))\n",
    "\n",
    "sns.lineplot(data=df_stlouis, x='DATE', y = 'PRCP')\n",
    "\n",
    "plt.xlabel('Date', fontsize=18)\n",
    "plt.ylabel('Precipitation (inches)', fontsize=18)\n",
    "\n",
    "plt.tick_params(labelsize=15)\n",
    "\n",
    "plt.show()"
   ]
  },
  {
   "cell_type": "markdown",
   "id": "1f032178",
   "metadata": {},
   "source": [
    "After check the line plot, we can see that St Louis's dataset have data from 2017 to 2023, but we only need the data from 01/01/2018 until 12/31/2022. Therefore, we start cleaning the data to contain only the range of date that we need."
   ]
  },
  {
   "cell_type": "code",
   "execution_count": 31,
   "id": "55fdf3be",
   "metadata": {},
   "outputs": [
    {
     "data": {
      "text/html": [
       "<div>\n",
       "<style scoped>\n",
       "    .dataframe tbody tr th:only-of-type {\n",
       "        vertical-align: middle;\n",
       "    }\n",
       "\n",
       "    .dataframe tbody tr th {\n",
       "        vertical-align: top;\n",
       "    }\n",
       "\n",
       "    .dataframe thead th {\n",
       "        text-align: right;\n",
       "    }\n",
       "</style>\n",
       "<table border=\"1\" class=\"dataframe\">\n",
       "  <thead>\n",
       "    <tr style=\"text-align: right;\">\n",
       "      <th></th>\n",
       "      <th>STATION</th>\n",
       "      <th>NAME</th>\n",
       "      <th>DATE</th>\n",
       "      <th>DAPR</th>\n",
       "      <th>MDPR</th>\n",
       "      <th>PRCP</th>\n",
       "      <th>SNOW</th>\n",
       "      <th>SNWD</th>\n",
       "    </tr>\n",
       "  </thead>\n",
       "  <tbody>\n",
       "    <tr>\n",
       "      <th>0</th>\n",
       "      <td>US1MOSS0027</td>\n",
       "      <td>ST. CHARLES 2.3 NE, MO US</td>\n",
       "      <td>2017-01-01</td>\n",
       "      <td>NaN</td>\n",
       "      <td>NaN</td>\n",
       "      <td>0.00</td>\n",
       "      <td>0.0</td>\n",
       "      <td>NaN</td>\n",
       "    </tr>\n",
       "    <tr>\n",
       "      <th>1</th>\n",
       "      <td>US1MOSS0027</td>\n",
       "      <td>ST. CHARLES 2.3 NE, MO US</td>\n",
       "      <td>2017-01-03</td>\n",
       "      <td>NaN</td>\n",
       "      <td>NaN</td>\n",
       "      <td>0.35</td>\n",
       "      <td>NaN</td>\n",
       "      <td>NaN</td>\n",
       "    </tr>\n",
       "    <tr>\n",
       "      <th>2</th>\n",
       "      <td>US1MOSS0027</td>\n",
       "      <td>ST. CHARLES 2.3 NE, MO US</td>\n",
       "      <td>2017-01-04</td>\n",
       "      <td>NaN</td>\n",
       "      <td>NaN</td>\n",
       "      <td>0.03</td>\n",
       "      <td>NaN</td>\n",
       "      <td>NaN</td>\n",
       "    </tr>\n",
       "    <tr>\n",
       "      <th>3</th>\n",
       "      <td>US1MOSS0027</td>\n",
       "      <td>ST. CHARLES 2.3 NE, MO US</td>\n",
       "      <td>2017-01-05</td>\n",
       "      <td>NaN</td>\n",
       "      <td>NaN</td>\n",
       "      <td>0.04</td>\n",
       "      <td>1.2</td>\n",
       "      <td>NaN</td>\n",
       "    </tr>\n",
       "    <tr>\n",
       "      <th>4</th>\n",
       "      <td>US1MOSS0027</td>\n",
       "      <td>ST. CHARLES 2.3 NE, MO US</td>\n",
       "      <td>2017-01-06</td>\n",
       "      <td>NaN</td>\n",
       "      <td>NaN</td>\n",
       "      <td>0.00</td>\n",
       "      <td>0.0</td>\n",
       "      <td>1.0</td>\n",
       "    </tr>\n",
       "  </tbody>\n",
       "</table>\n",
       "</div>"
      ],
      "text/plain": [
       "       STATION                       NAME       DATE  DAPR  MDPR  PRCP  SNOW  \\\n",
       "0  US1MOSS0027  ST. CHARLES 2.3 NE, MO US 2017-01-01   NaN   NaN  0.00   0.0   \n",
       "1  US1MOSS0027  ST. CHARLES 2.3 NE, MO US 2017-01-03   NaN   NaN  0.35   NaN   \n",
       "2  US1MOSS0027  ST. CHARLES 2.3 NE, MO US 2017-01-04   NaN   NaN  0.03   NaN   \n",
       "3  US1MOSS0027  ST. CHARLES 2.3 NE, MO US 2017-01-05   NaN   NaN  0.04   1.2   \n",
       "4  US1MOSS0027  ST. CHARLES 2.3 NE, MO US 2017-01-06   NaN   NaN  0.00   0.0   \n",
       "\n",
       "   SNWD  \n",
       "0   NaN  \n",
       "1   NaN  \n",
       "2   NaN  \n",
       "3   NaN  \n",
       "4   1.0  "
      ]
     },
     "execution_count": 31,
     "metadata": {},
     "output_type": "execute_result"
    }
   ],
   "source": [
    "df_stlouis.head()"
   ]
  },
  {
   "cell_type": "markdown",
   "id": "58161e85",
   "metadata": {},
   "source": [
    "After the code, we know that the first 5 rows are start from 01/01/2017, so we need to reassign the DataFrame of St Louis to dataset that contain only data if its date is on or after 01/01/2018."
   ]
  },
  {
   "cell_type": "code",
   "execution_count": 32,
   "id": "96233cea",
   "metadata": {},
   "outputs": [],
   "source": [
    "df_stlouis = df_stlouis.loc[df_stlouis['DATE'] >= '2018-01-01']"
   ]
  },
  {
   "cell_type": "code",
   "execution_count": 33,
   "id": "8ae7ba71",
   "metadata": {},
   "outputs": [
    {
     "data": {
      "text/html": [
       "<div>\n",
       "<style scoped>\n",
       "    .dataframe tbody tr th:only-of-type {\n",
       "        vertical-align: middle;\n",
       "    }\n",
       "\n",
       "    .dataframe tbody tr th {\n",
       "        vertical-align: top;\n",
       "    }\n",
       "\n",
       "    .dataframe thead th {\n",
       "        text-align: right;\n",
       "    }\n",
       "</style>\n",
       "<table border=\"1\" class=\"dataframe\">\n",
       "  <thead>\n",
       "    <tr style=\"text-align: right;\">\n",
       "      <th></th>\n",
       "      <th>STATION</th>\n",
       "      <th>NAME</th>\n",
       "      <th>DATE</th>\n",
       "      <th>DAPR</th>\n",
       "      <th>MDPR</th>\n",
       "      <th>PRCP</th>\n",
       "      <th>SNOW</th>\n",
       "      <th>SNWD</th>\n",
       "    </tr>\n",
       "  </thead>\n",
       "  <tbody>\n",
       "    <tr>\n",
       "      <th>241</th>\n",
       "      <td>US1MOSS0027</td>\n",
       "      <td>ST. CHARLES 2.3 NE, MO US</td>\n",
       "      <td>2018-01-05</td>\n",
       "      <td>NaN</td>\n",
       "      <td>NaN</td>\n",
       "      <td>0.00</td>\n",
       "      <td>0.2</td>\n",
       "      <td>1.0</td>\n",
       "    </tr>\n",
       "    <tr>\n",
       "      <th>242</th>\n",
       "      <td>US1MOSS0027</td>\n",
       "      <td>ST. CHARLES 2.3 NE, MO US</td>\n",
       "      <td>2018-01-08</td>\n",
       "      <td>NaN</td>\n",
       "      <td>NaN</td>\n",
       "      <td>0.24</td>\n",
       "      <td>NaN</td>\n",
       "      <td>NaN</td>\n",
       "    </tr>\n",
       "    <tr>\n",
       "      <th>243</th>\n",
       "      <td>US1MOSS0027</td>\n",
       "      <td>ST. CHARLES 2.3 NE, MO US</td>\n",
       "      <td>2018-01-10</td>\n",
       "      <td>NaN</td>\n",
       "      <td>NaN</td>\n",
       "      <td>0.00</td>\n",
       "      <td>NaN</td>\n",
       "      <td>NaN</td>\n",
       "    </tr>\n",
       "    <tr>\n",
       "      <th>244</th>\n",
       "      <td>US1MOSS0027</td>\n",
       "      <td>ST. CHARLES 2.3 NE, MO US</td>\n",
       "      <td>2018-01-11</td>\n",
       "      <td>NaN</td>\n",
       "      <td>NaN</td>\n",
       "      <td>0.02</td>\n",
       "      <td>NaN</td>\n",
       "      <td>NaN</td>\n",
       "    </tr>\n",
       "    <tr>\n",
       "      <th>245</th>\n",
       "      <td>US1MOSS0027</td>\n",
       "      <td>ST. CHARLES 2.3 NE, MO US</td>\n",
       "      <td>2018-01-15</td>\n",
       "      <td>NaN</td>\n",
       "      <td>NaN</td>\n",
       "      <td>0.05</td>\n",
       "      <td>0.5</td>\n",
       "      <td>NaN</td>\n",
       "    </tr>\n",
       "  </tbody>\n",
       "</table>\n",
       "</div>"
      ],
      "text/plain": [
       "         STATION                       NAME       DATE  DAPR  MDPR  PRCP  \\\n",
       "241  US1MOSS0027  ST. CHARLES 2.3 NE, MO US 2018-01-05   NaN   NaN  0.00   \n",
       "242  US1MOSS0027  ST. CHARLES 2.3 NE, MO US 2018-01-08   NaN   NaN  0.24   \n",
       "243  US1MOSS0027  ST. CHARLES 2.3 NE, MO US 2018-01-10   NaN   NaN  0.00   \n",
       "244  US1MOSS0027  ST. CHARLES 2.3 NE, MO US 2018-01-11   NaN   NaN  0.02   \n",
       "245  US1MOSS0027  ST. CHARLES 2.3 NE, MO US 2018-01-15   NaN   NaN  0.05   \n",
       "\n",
       "     SNOW  SNWD  \n",
       "241   0.2   1.0  \n",
       "242   NaN   NaN  \n",
       "243   NaN   NaN  \n",
       "244   NaN   NaN  \n",
       "245   0.5   NaN  "
      ]
     },
     "execution_count": 33,
     "metadata": {},
     "output_type": "execute_result"
    }
   ],
   "source": [
    "df_stlouis.head()"
   ]
  },
  {
   "cell_type": "markdown",
   "id": "2096b7e7",
   "metadata": {},
   "source": [
    "After clean data based on the date, we now have correct range of required date. However, the data still contain multiple stations that cause the dataset contail much more data and station compare to other datasets. Therefore, we reassign dataset of St Louis to contain only data from ST LOUIS LAMBERT INTERNATIONAL AIRPORT, MO US station."
   ]
  },
  {
   "cell_type": "code",
   "execution_count": 34,
   "id": "7c9d791b",
   "metadata": {},
   "outputs": [],
   "source": [
    "df_stlouis = df_stlouis.loc[df_stlouis['NAME'] == 'ST LOUIS LAMBERT INTERNATIONAL AIRPORT, MO US']"
   ]
  },
  {
   "cell_type": "code",
   "execution_count": 35,
   "id": "a153bc85",
   "metadata": {},
   "outputs": [
    {
     "data": {
      "text/plain": [
       "array(['USW00013994'], dtype=object)"
      ]
     },
     "execution_count": 35,
     "metadata": {},
     "output_type": "execute_result"
    }
   ],
   "source": [
    "df_stlouis['STATION'].unique()"
   ]
  },
  {
   "cell_type": "markdown",
   "id": "3fbe45e1",
   "metadata": {},
   "source": [
    "After clean the data based on the station, we now only have one station for St Louis dataset. Then we can check the information of dataset again to make sure that the data is correct and ready for analysis."
   ]
  },
  {
   "cell_type": "code",
   "execution_count": 36,
   "id": "191feedc",
   "metadata": {},
   "outputs": [
    {
     "name": "stdout",
     "output_type": "stream",
     "text": [
      "<class 'pandas.core.frame.DataFrame'>\n",
      "Index: 1826 entries, 51540 to 53365\n",
      "Data columns (total 8 columns):\n",
      " #   Column   Non-Null Count  Dtype         \n",
      "---  ------   --------------  -----         \n",
      " 0   STATION  1826 non-null   object        \n",
      " 1   NAME     1826 non-null   object        \n",
      " 2   DATE     1826 non-null   datetime64[ns]\n",
      " 3   DAPR     0 non-null      float64       \n",
      " 4   MDPR     0 non-null      float64       \n",
      " 5   PRCP     1826 non-null   float64       \n",
      " 6   SNOW     1826 non-null   float64       \n",
      " 7   SNWD     1826 non-null   float64       \n",
      "dtypes: datetime64[ns](1), float64(5), object(2)\n",
      "memory usage: 128.4+ KB\n"
     ]
    }
   ],
   "source": [
    "df_stlouis.info()"
   ]
  },
  {
   "cell_type": "markdown",
   "id": "afebf83e",
   "metadata": {},
   "source": [
    "Now we can see the entries of St Louis drop down to have almost same length of other datasets. Next step is combine two dataset into a DataFrame for date and precipitation column based on date column using outer way."
   ]
  },
  {
   "cell_type": "code",
   "execution_count": 38,
   "id": "5a90f4ae",
   "metadata": {},
   "outputs": [],
   "source": [
    "df = df_stlouis[['DATE', 'PRCP']].merge(df_seattle[['DATE', 'PRCP']], on='DATE', how='outer')"
   ]
  },
  {
   "cell_type": "code",
   "execution_count": 39,
   "id": "5b15e202",
   "metadata": {},
   "outputs": [
    {
     "data": {
      "text/html": [
       "<div>\n",
       "<style scoped>\n",
       "    .dataframe tbody tr th:only-of-type {\n",
       "        vertical-align: middle;\n",
       "    }\n",
       "\n",
       "    .dataframe tbody tr th {\n",
       "        vertical-align: top;\n",
       "    }\n",
       "\n",
       "    .dataframe thead th {\n",
       "        text-align: right;\n",
       "    }\n",
       "</style>\n",
       "<table border=\"1\" class=\"dataframe\">\n",
       "  <thead>\n",
       "    <tr style=\"text-align: right;\">\n",
       "      <th></th>\n",
       "      <th>DATE</th>\n",
       "      <th>PRCP_x</th>\n",
       "      <th>PRCP_y</th>\n",
       "    </tr>\n",
       "  </thead>\n",
       "  <tbody>\n",
       "    <tr>\n",
       "      <th>0</th>\n",
       "      <td>2018-01-01</td>\n",
       "      <td>0.0</td>\n",
       "      <td>0.00</td>\n",
       "    </tr>\n",
       "    <tr>\n",
       "      <th>1</th>\n",
       "      <td>2018-01-02</td>\n",
       "      <td>0.0</td>\n",
       "      <td>0.00</td>\n",
       "    </tr>\n",
       "    <tr>\n",
       "      <th>2</th>\n",
       "      <td>2018-01-03</td>\n",
       "      <td>0.0</td>\n",
       "      <td>0.00</td>\n",
       "    </tr>\n",
       "    <tr>\n",
       "      <th>3</th>\n",
       "      <td>2018-01-04</td>\n",
       "      <td>0.0</td>\n",
       "      <td>0.00</td>\n",
       "    </tr>\n",
       "    <tr>\n",
       "      <th>4</th>\n",
       "      <td>2018-01-05</td>\n",
       "      <td>0.0</td>\n",
       "      <td>0.25</td>\n",
       "    </tr>\n",
       "  </tbody>\n",
       "</table>\n",
       "</div>"
      ],
      "text/plain": [
       "        DATE  PRCP_x  PRCP_y\n",
       "0 2018-01-01     0.0    0.00\n",
       "1 2018-01-02     0.0    0.00\n",
       "2 2018-01-03     0.0    0.00\n",
       "3 2018-01-04     0.0    0.00\n",
       "4 2018-01-05     0.0    0.25"
      ]
     },
     "execution_count": 39,
     "metadata": {},
     "output_type": "execute_result"
    }
   ],
   "source": [
    "df.head()"
   ]
  },
  {
   "cell_type": "markdown",
   "id": "4d913fee",
   "metadata": {},
   "source": [
    "After merge two dataset, we have a date column and two precipitation columns from St Louis and Seattle. Next step is make the city column to be inseparate rows instead of separate columns."
   ]
  },
  {
   "cell_type": "code",
   "execution_count": 40,
   "id": "e4060731",
   "metadata": {},
   "outputs": [],
   "source": [
    "df = pd.melt(df, id_vars=['DATE'], var_name='city', value_name='precipitation')"
   ]
  },
  {
   "cell_type": "code",
   "execution_count": 41,
   "id": "2eb44ea8",
   "metadata": {},
   "outputs": [
    {
     "data": {
      "text/html": [
       "<div>\n",
       "<style scoped>\n",
       "    .dataframe tbody tr th:only-of-type {\n",
       "        vertical-align: middle;\n",
       "    }\n",
       "\n",
       "    .dataframe tbody tr th {\n",
       "        vertical-align: top;\n",
       "    }\n",
       "\n",
       "    .dataframe thead th {\n",
       "        text-align: right;\n",
       "    }\n",
       "</style>\n",
       "<table border=\"1\" class=\"dataframe\">\n",
       "  <thead>\n",
       "    <tr style=\"text-align: right;\">\n",
       "      <th></th>\n",
       "      <th>DATE</th>\n",
       "      <th>city</th>\n",
       "      <th>precipitation</th>\n",
       "    </tr>\n",
       "  </thead>\n",
       "  <tbody>\n",
       "    <tr>\n",
       "      <th>0</th>\n",
       "      <td>2018-01-01</td>\n",
       "      <td>PRCP_x</td>\n",
       "      <td>0.0</td>\n",
       "    </tr>\n",
       "    <tr>\n",
       "      <th>1</th>\n",
       "      <td>2018-01-02</td>\n",
       "      <td>PRCP_x</td>\n",
       "      <td>0.0</td>\n",
       "    </tr>\n",
       "    <tr>\n",
       "      <th>2</th>\n",
       "      <td>2018-01-03</td>\n",
       "      <td>PRCP_x</td>\n",
       "      <td>0.0</td>\n",
       "    </tr>\n",
       "    <tr>\n",
       "      <th>3</th>\n",
       "      <td>2018-01-04</td>\n",
       "      <td>PRCP_x</td>\n",
       "      <td>0.0</td>\n",
       "    </tr>\n",
       "    <tr>\n",
       "      <th>4</th>\n",
       "      <td>2018-01-05</td>\n",
       "      <td>PRCP_x</td>\n",
       "      <td>0.0</td>\n",
       "    </tr>\n",
       "  </tbody>\n",
       "</table>\n",
       "</div>"
      ],
      "text/plain": [
       "        DATE    city  precipitation\n",
       "0 2018-01-01  PRCP_x            0.0\n",
       "1 2018-01-02  PRCP_x            0.0\n",
       "2 2018-01-03  PRCP_x            0.0\n",
       "3 2018-01-04  PRCP_x            0.0\n",
       "4 2018-01-05  PRCP_x            0.0"
      ]
     },
     "execution_count": 41,
     "metadata": {},
     "output_type": "execute_result"
    }
   ],
   "source": [
    "df.head()"
   ]
  },
  {
   "cell_type": "markdown",
   "id": "4d6f2950",
   "metadata": {},
   "source": [
    "After reformat the city column, we now have a DataFrame that contain date, city and precipitation columns. Next step is change the value of city column to be the name of city instead of PRCP_x and PRCP_y."
   ]
  },
  {
   "cell_type": "code",
   "execution_count": 42,
   "id": "1057a78e",
   "metadata": {},
   "outputs": [],
   "source": [
    "df.loc[df['city'] == 'PRCP_x', 'city'] = 'STL'"
   ]
  },
  {
   "cell_type": "code",
   "execution_count": 43,
   "id": "7c0d75ee",
   "metadata": {},
   "outputs": [],
   "source": [
    "df.loc[df['city'] == 'PRCP_y', 'city'] = 'SEA'"
   ]
  },
  {
   "cell_type": "code",
   "execution_count": 44,
   "id": "a848c107",
   "metadata": {},
   "outputs": [
    {
     "data": {
      "text/html": [
       "<div>\n",
       "<style scoped>\n",
       "    .dataframe tbody tr th:only-of-type {\n",
       "        vertical-align: middle;\n",
       "    }\n",
       "\n",
       "    .dataframe tbody tr th {\n",
       "        vertical-align: top;\n",
       "    }\n",
       "\n",
       "    .dataframe thead th {\n",
       "        text-align: right;\n",
       "    }\n",
       "</style>\n",
       "<table border=\"1\" class=\"dataframe\">\n",
       "  <thead>\n",
       "    <tr style=\"text-align: right;\">\n",
       "      <th></th>\n",
       "      <th>DATE</th>\n",
       "      <th>city</th>\n",
       "      <th>precipitation</th>\n",
       "    </tr>\n",
       "  </thead>\n",
       "  <tbody>\n",
       "    <tr>\n",
       "      <th>0</th>\n",
       "      <td>2018-01-01</td>\n",
       "      <td>STL</td>\n",
       "      <td>0.0</td>\n",
       "    </tr>\n",
       "    <tr>\n",
       "      <th>1</th>\n",
       "      <td>2018-01-02</td>\n",
       "      <td>STL</td>\n",
       "      <td>0.0</td>\n",
       "    </tr>\n",
       "    <tr>\n",
       "      <th>2</th>\n",
       "      <td>2018-01-03</td>\n",
       "      <td>STL</td>\n",
       "      <td>0.0</td>\n",
       "    </tr>\n",
       "    <tr>\n",
       "      <th>3</th>\n",
       "      <td>2018-01-04</td>\n",
       "      <td>STL</td>\n",
       "      <td>0.0</td>\n",
       "    </tr>\n",
       "    <tr>\n",
       "      <th>4</th>\n",
       "      <td>2018-01-05</td>\n",
       "      <td>STL</td>\n",
       "      <td>0.0</td>\n",
       "    </tr>\n",
       "  </tbody>\n",
       "</table>\n",
       "</div>"
      ],
      "text/plain": [
       "        DATE city  precipitation\n",
       "0 2018-01-01  STL            0.0\n",
       "1 2018-01-02  STL            0.0\n",
       "2 2018-01-03  STL            0.0\n",
       "3 2018-01-04  STL            0.0\n",
       "4 2018-01-05  STL            0.0"
      ]
     },
     "execution_count": 44,
     "metadata": {},
     "output_type": "execute_result"
    }
   ],
   "source": [
    "df.head()"
   ]
  },
  {
   "cell_type": "code",
   "execution_count": 45,
   "id": "228ae05e",
   "metadata": {},
   "outputs": [
    {
     "data": {
      "text/html": [
       "<div>\n",
       "<style scoped>\n",
       "    .dataframe tbody tr th:only-of-type {\n",
       "        vertical-align: middle;\n",
       "    }\n",
       "\n",
       "    .dataframe tbody tr th {\n",
       "        vertical-align: top;\n",
       "    }\n",
       "\n",
       "    .dataframe thead th {\n",
       "        text-align: right;\n",
       "    }\n",
       "</style>\n",
       "<table border=\"1\" class=\"dataframe\">\n",
       "  <thead>\n",
       "    <tr style=\"text-align: right;\">\n",
       "      <th></th>\n",
       "      <th>DATE</th>\n",
       "      <th>city</th>\n",
       "      <th>precipitation</th>\n",
       "    </tr>\n",
       "  </thead>\n",
       "  <tbody>\n",
       "    <tr>\n",
       "      <th>3647</th>\n",
       "      <td>2022-12-27</td>\n",
       "      <td>SEA</td>\n",
       "      <td>0.78</td>\n",
       "    </tr>\n",
       "    <tr>\n",
       "      <th>3648</th>\n",
       "      <td>2022-12-28</td>\n",
       "      <td>SEA</td>\n",
       "      <td>0.40</td>\n",
       "    </tr>\n",
       "    <tr>\n",
       "      <th>3649</th>\n",
       "      <td>2022-12-29</td>\n",
       "      <td>SEA</td>\n",
       "      <td>0.03</td>\n",
       "    </tr>\n",
       "    <tr>\n",
       "      <th>3650</th>\n",
       "      <td>2022-12-30</td>\n",
       "      <td>SEA</td>\n",
       "      <td>0.62</td>\n",
       "    </tr>\n",
       "    <tr>\n",
       "      <th>3651</th>\n",
       "      <td>2022-12-31</td>\n",
       "      <td>SEA</td>\n",
       "      <td>0.17</td>\n",
       "    </tr>\n",
       "  </tbody>\n",
       "</table>\n",
       "</div>"
      ],
      "text/plain": [
       "           DATE city  precipitation\n",
       "3647 2022-12-27  SEA           0.78\n",
       "3648 2022-12-28  SEA           0.40\n",
       "3649 2022-12-29  SEA           0.03\n",
       "3650 2022-12-30  SEA           0.62\n",
       "3651 2022-12-31  SEA           0.17"
      ]
     },
     "execution_count": 45,
     "metadata": {},
     "output_type": "execute_result"
    }
   ],
   "source": [
    "df.tail()"
   ]
  },
  {
   "cell_type": "markdown",
   "id": "44b0718c",
   "metadata": {},
   "source": [
    "Now we have clear city name for each row to be eaiser for analysis, but then we should also rename the DATE column to lower case to match with other columns."
   ]
  },
  {
   "cell_type": "code",
   "execution_count": 46,
   "id": "9c198523",
   "metadata": {},
   "outputs": [],
   "source": [
    "df = df.rename(columns={'DATE': 'date'})"
   ]
  },
  {
   "cell_type": "code",
   "execution_count": 47,
   "id": "03144bc1",
   "metadata": {},
   "outputs": [
    {
     "data": {
      "text/html": [
       "<div>\n",
       "<style scoped>\n",
       "    .dataframe tbody tr th:only-of-type {\n",
       "        vertical-align: middle;\n",
       "    }\n",
       "\n",
       "    .dataframe tbody tr th {\n",
       "        vertical-align: top;\n",
       "    }\n",
       "\n",
       "    .dataframe thead th {\n",
       "        text-align: right;\n",
       "    }\n",
       "</style>\n",
       "<table border=\"1\" class=\"dataframe\">\n",
       "  <thead>\n",
       "    <tr style=\"text-align: right;\">\n",
       "      <th></th>\n",
       "      <th>date</th>\n",
       "      <th>city</th>\n",
       "      <th>precipitation</th>\n",
       "    </tr>\n",
       "  </thead>\n",
       "  <tbody>\n",
       "    <tr>\n",
       "      <th>0</th>\n",
       "      <td>2018-01-01</td>\n",
       "      <td>STL</td>\n",
       "      <td>0.0</td>\n",
       "    </tr>\n",
       "    <tr>\n",
       "      <th>1</th>\n",
       "      <td>2018-01-02</td>\n",
       "      <td>STL</td>\n",
       "      <td>0.0</td>\n",
       "    </tr>\n",
       "    <tr>\n",
       "      <th>2</th>\n",
       "      <td>2018-01-03</td>\n",
       "      <td>STL</td>\n",
       "      <td>0.0</td>\n",
       "    </tr>\n",
       "    <tr>\n",
       "      <th>3</th>\n",
       "      <td>2018-01-04</td>\n",
       "      <td>STL</td>\n",
       "      <td>0.0</td>\n",
       "    </tr>\n",
       "    <tr>\n",
       "      <th>4</th>\n",
       "      <td>2018-01-05</td>\n",
       "      <td>STL</td>\n",
       "      <td>0.0</td>\n",
       "    </tr>\n",
       "  </tbody>\n",
       "</table>\n",
       "</div>"
      ],
      "text/plain": [
       "        date city  precipitation\n",
       "0 2018-01-01  STL            0.0\n",
       "1 2018-01-02  STL            0.0\n",
       "2 2018-01-03  STL            0.0\n",
       "3 2018-01-04  STL            0.0\n",
       "4 2018-01-05  STL            0.0"
      ]
     },
     "execution_count": 47,
     "metadata": {},
     "output_type": "execute_result"
    }
   ],
   "source": [
    "df.head()"
   ]
  },
  {
   "cell_type": "markdown",
   "id": "72733cd1",
   "metadata": {},
   "source": [
    "After setup the correct columns for new dataset, we get the information to insepect its structure."
   ]
  },
  {
   "cell_type": "code",
   "execution_count": 48,
   "id": "c814d0dd",
   "metadata": {},
   "outputs": [
    {
     "name": "stdout",
     "output_type": "stream",
     "text": [
      "<class 'pandas.core.frame.DataFrame'>\n",
      "RangeIndex: 3652 entries, 0 to 3651\n",
      "Data columns (total 3 columns):\n",
      " #   Column         Non-Null Count  Dtype         \n",
      "---  ------         --------------  -----         \n",
      " 0   date           3652 non-null   datetime64[ns]\n",
      " 1   city           3652 non-null   object        \n",
      " 2   precipitation  3462 non-null   float64       \n",
      "dtypes: datetime64[ns](1), float64(1), object(1)\n",
      "memory usage: 85.7+ KB\n"
     ]
    }
   ],
   "source": [
    "df.info()"
   ]
  },
  {
   "cell_type": "code",
   "execution_count": 49,
   "id": "9cf60566",
   "metadata": {},
   "outputs": [
    {
     "data": {
      "text/plain": [
       "date             3652\n",
       "city             3652\n",
       "precipitation    3462\n",
       "dtype: int64"
      ]
     },
     "execution_count": 49,
     "metadata": {},
     "output_type": "execute_result"
    }
   ],
   "source": [
    "df.notna().sum()"
   ]
  },
  {
   "cell_type": "code",
   "execution_count": 50,
   "id": "ab4afe8d",
   "metadata": {},
   "outputs": [
    {
     "data": {
      "text/plain": [
       "date               0\n",
       "city               0\n",
       "precipitation    190\n",
       "dtype: int64"
      ]
     },
     "execution_count": 50,
     "metadata": {},
     "output_type": "execute_result"
    }
   ],
   "source": [
    "df.isna().sum()"
   ]
  },
  {
   "cell_type": "markdown",
   "id": "a93a326f",
   "metadata": {},
   "source": [
    "from the code above, we know that the new dataset has 190 missing value, and next step is checking how many data is missing in each city."
   ]
  },
  {
   "cell_type": "code",
   "execution_count": 51,
   "id": "b883bc37",
   "metadata": {},
   "outputs": [
    {
     "data": {
      "text/plain": [
       "np.int64(190)"
      ]
     },
     "execution_count": 51,
     "metadata": {},
     "output_type": "execute_result"
    }
   ],
   "source": [
    "df.loc[df['city'] == 'SEA', 'precipitation'].isna().sum()"
   ]
  },
  {
   "cell_type": "code",
   "execution_count": 52,
   "id": "cabd98ca",
   "metadata": {},
   "outputs": [
    {
     "data": {
      "text/plain": [
       "np.int64(0)"
      ]
     },
     "execution_count": 52,
     "metadata": {},
     "output_type": "execute_result"
    }
   ],
   "source": [
    "df.loc[df['city'] == 'STL', 'precipitation'].isna().sum()"
   ]
  },
  {
   "cell_type": "markdown",
   "id": "18c51e72",
   "metadata": {},
   "source": [
    "from the code above, we can know how many values are missing in each cities. Now we need to find a way to replace the missing value with a new value for next step. We then decide to replace the value based on the mean value of the specific day, so next step is assign a specific day of year to each row."
   ]
  },
  {
   "cell_type": "code",
   "execution_count": 53,
   "id": "8a7e2751",
   "metadata": {},
   "outputs": [],
   "source": [
    "df['day_of_year'] = pd.DatetimeIndex(df['date']).day_of_year"
   ]
  },
  {
   "cell_type": "code",
   "execution_count": 54,
   "id": "97fe1915",
   "metadata": {},
   "outputs": [
    {
     "data": {
      "text/html": [
       "<div>\n",
       "<style scoped>\n",
       "    .dataframe tbody tr th:only-of-type {\n",
       "        vertical-align: middle;\n",
       "    }\n",
       "\n",
       "    .dataframe tbody tr th {\n",
       "        vertical-align: top;\n",
       "    }\n",
       "\n",
       "    .dataframe thead th {\n",
       "        text-align: right;\n",
       "    }\n",
       "</style>\n",
       "<table border=\"1\" class=\"dataframe\">\n",
       "  <thead>\n",
       "    <tr style=\"text-align: right;\">\n",
       "      <th></th>\n",
       "      <th>date</th>\n",
       "      <th>city</th>\n",
       "      <th>precipitation</th>\n",
       "      <th>day_of_year</th>\n",
       "    </tr>\n",
       "  </thead>\n",
       "  <tbody>\n",
       "    <tr>\n",
       "      <th>0</th>\n",
       "      <td>2018-01-01</td>\n",
       "      <td>STL</td>\n",
       "      <td>0.00</td>\n",
       "      <td>1</td>\n",
       "    </tr>\n",
       "    <tr>\n",
       "      <th>1</th>\n",
       "      <td>2018-01-02</td>\n",
       "      <td>STL</td>\n",
       "      <td>0.00</td>\n",
       "      <td>2</td>\n",
       "    </tr>\n",
       "    <tr>\n",
       "      <th>2</th>\n",
       "      <td>2018-01-03</td>\n",
       "      <td>STL</td>\n",
       "      <td>0.00</td>\n",
       "      <td>3</td>\n",
       "    </tr>\n",
       "    <tr>\n",
       "      <th>3</th>\n",
       "      <td>2018-01-04</td>\n",
       "      <td>STL</td>\n",
       "      <td>0.00</td>\n",
       "      <td>4</td>\n",
       "    </tr>\n",
       "    <tr>\n",
       "      <th>4</th>\n",
       "      <td>2018-01-05</td>\n",
       "      <td>STL</td>\n",
       "      <td>0.00</td>\n",
       "      <td>5</td>\n",
       "    </tr>\n",
       "    <tr>\n",
       "      <th>5</th>\n",
       "      <td>2018-01-06</td>\n",
       "      <td>STL</td>\n",
       "      <td>0.00</td>\n",
       "      <td>6</td>\n",
       "    </tr>\n",
       "    <tr>\n",
       "      <th>6</th>\n",
       "      <td>2018-01-07</td>\n",
       "      <td>STL</td>\n",
       "      <td>0.35</td>\n",
       "      <td>7</td>\n",
       "    </tr>\n",
       "    <tr>\n",
       "      <th>7</th>\n",
       "      <td>2018-01-08</td>\n",
       "      <td>STL</td>\n",
       "      <td>0.00</td>\n",
       "      <td>8</td>\n",
       "    </tr>\n",
       "    <tr>\n",
       "      <th>8</th>\n",
       "      <td>2018-01-09</td>\n",
       "      <td>STL</td>\n",
       "      <td>0.00</td>\n",
       "      <td>9</td>\n",
       "    </tr>\n",
       "    <tr>\n",
       "      <th>9</th>\n",
       "      <td>2018-01-10</td>\n",
       "      <td>STL</td>\n",
       "      <td>0.00</td>\n",
       "      <td>10</td>\n",
       "    </tr>\n",
       "  </tbody>\n",
       "</table>\n",
       "</div>"
      ],
      "text/plain": [
       "        date city  precipitation  day_of_year\n",
       "0 2018-01-01  STL           0.00            1\n",
       "1 2018-01-02  STL           0.00            2\n",
       "2 2018-01-03  STL           0.00            3\n",
       "3 2018-01-04  STL           0.00            4\n",
       "4 2018-01-05  STL           0.00            5\n",
       "5 2018-01-06  STL           0.00            6\n",
       "6 2018-01-07  STL           0.35            7\n",
       "7 2018-01-08  STL           0.00            8\n",
       "8 2018-01-09  STL           0.00            9\n",
       "9 2018-01-10  STL           0.00           10"
      ]
     },
     "execution_count": 54,
     "metadata": {},
     "output_type": "execute_result"
    }
   ],
   "source": [
    "df.head(10)"
   ]
  },
  {
   "cell_type": "markdown",
   "id": "f8c59f4e",
   "metadata": {},
   "source": [
    "Now each rows contain its day of year, then we will compute the mean for each day of the year for each cities and show the visualization of the result."
   ]
  },
  {
   "cell_type": "code",
   "execution_count": 55,
   "id": "4c9f65ba",
   "metadata": {},
   "outputs": [],
   "source": [
    "mean_day_precipitation = df.loc[\n",
    "  df['city'] == 'SEA',\n",
    "  ['precipitation', 'day_of_year']\n",
    "].groupby('day_of_year').mean()"
   ]
  },
  {
   "cell_type": "code",
   "execution_count": 56,
   "id": "ef4c4a5f",
   "metadata": {},
   "outputs": [
    {
     "data": {
      "image/png": "[encoded data removed]",
      "text/plain": [
       "<Figure size 2000x500 with 1 Axes>"
      ]
     },
     "metadata": {},
     "output_type": "display_data"
    }
   ],
   "source": [
    "plt.figure(figsize=(20, 5))\n",
    "\n",
    "sns.lineplot(data=mean_day_precipitation, x='day_of_year', y='precipitation')\n",
    "\n",
    "plt.xlabel('Day of the Year', fontsize=18)\n",
    "plt.ylabel('Mean Precipitation (inches)', fontsize=18)\n",
    "\n",
    "plt.tick_params(labelsize=15)\n",
    "\n",
    "plt.show()"
   ]
  },
  {
   "cell_type": "markdown",
   "id": "534df8c9",
   "metadata": {},
   "source": [
    "Now we can visualize the mean value for each day of year of Seattle. Next, we need to get the index of all rows that missing value of prepicipation."
   ]
  },
  {
   "cell_type": "code",
   "execution_count": 57,
   "id": "7a3e4ad4",
   "metadata": {},
   "outputs": [
    {
     "data": {
      "text/html": [
       "<div>\n",
       "<style scoped>\n",
       "    .dataframe tbody tr th:only-of-type {\n",
       "        vertical-align: middle;\n",
       "    }\n",
       "\n",
       "    .dataframe tbody tr th {\n",
       "        vertical-align: top;\n",
       "    }\n",
       "\n",
       "    .dataframe thead th {\n",
       "        text-align: right;\n",
       "    }\n",
       "</style>\n",
       "<table border=\"1\" class=\"dataframe\">\n",
       "  <thead>\n",
       "    <tr style=\"text-align: right;\">\n",
       "      <th></th>\n",
       "      <th>date</th>\n",
       "      <th>city</th>\n",
       "      <th>precipitation</th>\n",
       "      <th>day_of_year</th>\n",
       "    </tr>\n",
       "  </thead>\n",
       "  <tbody>\n",
       "    <tr>\n",
       "      <th>0</th>\n",
       "      <td>2018-01-01</td>\n",
       "      <td>STL</td>\n",
       "      <td>0.0</td>\n",
       "      <td>1</td>\n",
       "    </tr>\n",
       "    <tr>\n",
       "      <th>1</th>\n",
       "      <td>2018-01-02</td>\n",
       "      <td>STL</td>\n",
       "      <td>0.0</td>\n",
       "      <td>2</td>\n",
       "    </tr>\n",
       "    <tr>\n",
       "      <th>2</th>\n",
       "      <td>2018-01-03</td>\n",
       "      <td>STL</td>\n",
       "      <td>0.0</td>\n",
       "      <td>3</td>\n",
       "    </tr>\n",
       "    <tr>\n",
       "      <th>3</th>\n",
       "      <td>2018-01-04</td>\n",
       "      <td>STL</td>\n",
       "      <td>0.0</td>\n",
       "      <td>4</td>\n",
       "    </tr>\n",
       "    <tr>\n",
       "      <th>4</th>\n",
       "      <td>2018-01-05</td>\n",
       "      <td>STL</td>\n",
       "      <td>0.0</td>\n",
       "      <td>5</td>\n",
       "    </tr>\n",
       "  </tbody>\n",
       "</table>\n",
       "</div>"
      ],
      "text/plain": [
       "        date city  precipitation  day_of_year\n",
       "0 2018-01-01  STL            0.0            1\n",
       "1 2018-01-02  STL            0.0            2\n",
       "2 2018-01-03  STL            0.0            3\n",
       "3 2018-01-04  STL            0.0            4\n",
       "4 2018-01-05  STL            0.0            5"
      ]
     },
     "execution_count": 57,
     "metadata": {},
     "output_type": "execute_result"
    }
   ],
   "source": [
    "df.head()"
   ]
  },
  {
   "cell_type": "code",
   "execution_count": 58,
   "id": "825ad63d",
   "metadata": {},
   "outputs": [
    {
     "data": {
      "text/plain": [
       "0       False\n",
       "1       False\n",
       "2       False\n",
       "3       False\n",
       "4       False\n",
       "        ...  \n",
       "3647    False\n",
       "3648    False\n",
       "3649    False\n",
       "3650    False\n",
       "3651    False\n",
       "Name: precipitation, Length: 3652, dtype: bool"
      ]
     },
     "execution_count": 58,
     "metadata": {},
     "output_type": "execute_result"
    }
   ],
   "source": [
    "df['precipitation'].isna() == True"
   ]
  },
  {
   "cell_type": "code",
   "execution_count": 59,
   "id": "37d4a331",
   "metadata": {},
   "outputs": [],
   "source": [
    "indices = np.where(df['precipitation'].isna() == True)[0]"
   ]
  },
  {
   "cell_type": "code",
   "execution_count": 60,
   "id": "9682552e",
   "metadata": {},
   "outputs": [
    {
     "data": {
      "text/plain": [
       "array([1834, 1835, 1836, 1837, 1838, 1839, 1840, 1841, 1842, 1843, 1844,\n",
       "       1845, 1846, 1847, 1848, 1849, 1850, 1851, 1852, 1853, 1854, 1855,\n",
       "       1856, 1857, 1858, 1859, 1860, 1861, 1862, 1863, 1864, 1865, 1866,\n",
       "       1867, 1868, 1869, 1870, 1871, 1872, 1873, 1874, 1875, 1876, 1877,\n",
       "       1878, 1879, 1880, 1881, 1882, 1883, 1884, 1885, 1886, 1887, 1888,\n",
       "       1889, 1890, 1891, 1892, 1893, 1894, 1895, 2090, 2131, 2132, 2133,\n",
       "       2134, 2135, 2136, 2137, 2138, 2139, 2140, 2195, 2196, 2197, 2214,\n",
       "       2215, 2244, 2245, 2246, 2247, 2248, 2249, 2286, 2287, 2288, 2362,\n",
       "       2363, 2368, 2369, 2370, 2371, 2372, 2373, 2374, 2375, 2376, 2377,\n",
       "       2417, 2418, 2419, 2420, 2421, 2422, 2423, 2517, 2518, 2519, 2520,\n",
       "       2521, 2522, 2523, 2524, 2559, 2560, 2561, 2602, 2603, 2604, 2605,\n",
       "       2606, 2607, 2608, 2609, 2610, 2611, 2612, 2818, 2819, 2820, 2821,\n",
       "       2822, 2823, 2824, 2825, 2826, 2827, 2972, 2973, 2974, 2975, 2983,\n",
       "       2984, 2986, 2987, 2988, 3000, 3001, 3004, 3005, 3006, 3007, 3008,\n",
       "       3011, 3012, 3013, 3014, 3015, 3016, 3133, 3134, 3135, 3147, 3148,\n",
       "       3149, 3150, 3151, 3152, 3153, 3154, 3155, 3156, 3157, 3158, 3159,\n",
       "       3160, 3161, 3162, 3163, 3363, 3364, 3365, 3366, 3367, 3368, 3369,\n",
       "       3370, 3371, 3372])"
      ]
     },
     "execution_count": 60,
     "metadata": {},
     "output_type": "execute_result"
    }
   ],
   "source": [
    "indices"
   ]
  },
  {
   "cell_type": "code",
   "execution_count": 61,
   "id": "5f48b8d4",
   "metadata": {},
   "outputs": [],
   "source": [
    "for index in indices:\n",
    "  df.loc[index, 'precipitation'] = mean_day_precipitation.loc[df.loc[index, 'day_of_year']].values[0]"
   ]
  },
  {
   "cell_type": "markdown",
   "id": "cfe915fa",
   "metadata": {},
   "source": [
    "Now the DataFrame should not contain any missing value and we can check it again using the sum of isna method."
   ]
  },
  {
   "cell_type": "code",
   "execution_count": 62,
   "id": "02a84501",
   "metadata": {},
   "outputs": [
    {
     "data": {
      "text/plain": [
       "date             0\n",
       "city             0\n",
       "precipitation    0\n",
       "day_of_year      0\n",
       "dtype: int64"
      ]
     },
     "execution_count": 62,
     "metadata": {},
     "output_type": "execute_result"
    }
   ],
   "source": [
    "df.isna().sum()"
   ]
  },
  {
   "cell_type": "markdown",
   "id": "891dada1",
   "metadata": {},
   "source": [
    "After ensure the dataset now contain no missing value and ready for analysis, we can export the cleaned dataset to a new csv file and ready for next step."
   ]
  },
  {
   "cell_type": "code",
   "execution_count": 63,
   "id": "042a267a",
   "metadata": {},
   "outputs": [],
   "source": [
    "df.to_csv('../data/clean_seattle_stlouis_weather.csv', encoding='utf-8-sig', index=False)"
   ]
  },
  {
   "cell_type": "markdown",
   "id": "bc203f42",
   "metadata": {},
   "source": [
    "The cleaned dataset is saved in ../data/clean_seattle_stlouis_weather.csv"
   ]
  }
 ],
 "metadata": {
  "kernelspec": {
   "display_name": "base",
   "language": "python",
   "name": "python3"
  },
  "language_info": {
   "codemirror_mode": {
    "name": "ipython",
    "version": 3
   },
   "file_extension": ".py",
   "mimetype": "text/x-python",
   "name": "python",
   "nbconvert_exporter": "python",
   "pygments_lexer": "ipython3",
   "version": "3.13.5"
  }
 },
 "nbformat": 4,
 "nbformat_minor": 5
}
