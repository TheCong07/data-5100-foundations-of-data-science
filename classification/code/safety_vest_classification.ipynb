{
 "cells": [
  {
   "cell_type": "markdown",
   "id": "825d7e11",
   "metadata": {},
   "source": [
    "# Introduction"
   ]
  },
  {
   "cell_type": "markdown",
   "id": "e60e1d12",
   "metadata": {},
   "source": [
    "## Load libraries"
   ]
  },
  {
   "cell_type": "code",
   "execution_count": 14,
   "id": "16b0e0fb",
   "metadata": {},
   "outputs": [],
   "source": [
    "from fastai.vision.all import *\n",
    "from fastcore.all import *\n",
    "import kagglehub\n",
    "import os"
   ]
  },
  {
   "cell_type": "markdown",
   "id": "05c524a1",
   "metadata": {},
   "source": [
    "## Domain Problem"
   ]
  },
  {
   "cell_type": "markdown",
   "id": "ea09038c",
   "metadata": {},
   "source": [
    "We want to develop a model to classify whether a person wear a safety vest shown in an image"
   ]
  },
  {
   "cell_type": "markdown",
   "id": "f4a76951",
   "metadata": {},
   "source": [
    "## Safety Vest Classifier"
   ]
  },
  {
   "cell_type": "markdown",
   "id": "9ec0efac",
   "metadata": {},
   "source": [
    "The data are from the [Safety Vests Detection Dataset](https://www.kaggle.com/datasets/adilshamim8/safety-vests-detection-dataset/data)"
   ]
  },
  {
   "cell_type": "code",
   "execution_count": null,
   "id": "9ecbde08",
   "metadata": {},
   "outputs": [
    {
     "name": "stdout",
     "output_type": "stream",
     "text": [
      "Downloading from https://www.kaggle.com/api/v1/datasets/download/adilshamim8/safety-vests-detection-dataset?dataset_version_number=1...\n"
     ]
    },
    {
     "name": "stderr",
     "output_type": "stream",
     "text": [
      "100%|██████████| 406M/406M [00:38<00:00, 11.2MB/s] "
     ]
    },
    {
     "name": "stdout",
     "output_type": "stream",
     "text": [
      "Extracting files...\n"
     ]
    },
    {
     "name": "stderr",
     "output_type": "stream",
     "text": [
      "\n"
     ]
    },
    {
     "name": "stdout",
     "output_type": "stream",
     "text": [
      "Path to dataset files: /Users/congho/.cache/kagglehub/datasets/adilshamim8/safety-vests-detection-dataset/versions/1\n"
     ]
    }
   ],
   "source": [
    "os.environ[\"KAGGLEHUB_CACHE\"] = \"../data\"\n",
    "path = kagglehub.dataset_download(\"adilshamim8/safety-vests-detection-dataset\")\n",
    "\n",
    "print(\"Path to dataset files:\", path)"
   ]
  },
  {
   "cell_type": "code",
   "execution_count": null,
   "id": "8934b718",
   "metadata": {},
   "outputs": [],
   "source": []
  }
 ],
 "metadata": {
  "kernelspec": {
   "display_name": "venv",
   "language": "python",
   "name": "python3"
  },
  "language_info": {
   "codemirror_mode": {
    "name": "ipython",
    "version": 3
   },
   "file_extension": ".py",
   "mimetype": "text/x-python",
   "name": "python",
   "nbconvert_exporter": "python",
   "pygments_lexer": "ipython3",
   "version": "3.9.6"
  }
 },
 "nbformat": 4,
 "nbformat_minor": 5
}
