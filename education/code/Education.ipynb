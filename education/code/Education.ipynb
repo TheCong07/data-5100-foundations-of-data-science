{
 "cells": [
  {
   "cell_type": "markdown",
   "id": "df214cf4",
   "metadata": {},
   "source": [
    "### Load Libraries\n",
    "We start by importing the core libraries for data analysis and visualization. Pandas will be used for handling data, Numpy will be used for calculation methods, and Matplotlib/Seaborn will support charting."
   ]
  },
  {
   "cell_type": "code",
   "execution_count": 1,
   "id": "835760d5",
   "metadata": {},
   "outputs": [],
   "source": [
    "import pandas as pd\n",
    "import numpy as np\n",
    "import matplotlib.pyplot as plt\n",
    "\n",
    "# seaborn is a data visualization library built on matplotlib\n",
    "import seaborn as sns\n",
    "\n",
    "# set the plotting style\n",
    "sns.set_style(\"whitegrid\")"
   ]
  },
  {
   "cell_type": "markdown",
   "id": "4f8bb160",
   "metadata": {},
   "source": [
    "### Load the data\n",
    "\n",
    "Load the EdGap data set"
   ]
  },
  {
   "cell_type": "code",
   "execution_count": 6,
   "id": "3efc43f5",
   "metadata": {},
   "outputs": [
    {
     "name": "stderr",
     "output_type": "stream",
     "text": [
      "/Users/congho/su-homework/data-5100-foundations-of-data-science/education/venv/lib/python3.9/site-packages/openpyxl/worksheet/_reader.py:329: UserWarning: Unknown extension is not supported and will be removed\n",
      "  warn(msg)\n"
     ]
    }
   ],
   "source": [
    "edgap: pd.DataFrame = pd.read_excel('../data/EdGap_data.xlsx', dtype={'NCESSCH School ID': object})"
   ]
  },
  {
   "cell_type": "code",
   "execution_count": 8,
   "id": "93686ced",
   "metadata": {},
   "outputs": [],
   "source": [
    "school_information = pd.read_csv('../data/ccd_sch_029_1617_w_1a_11212017.csv', encoding='unicode_escape')"
   ]
  },
  {
   "cell_type": "markdown",
   "id": "981ec03d",
   "metadata": {},
   "source": [
    "### Explore the contents of the data sets"
   ]
  },
  {
   "cell_type": "markdown",
   "id": "52e8c6ea",
   "metadata": {},
   "source": [
    "#### Start by looking at the head of each data frame\n",
    "\n",
    "This will let us see the names of the columns and a few example values for each column. We can also check whether the data is in tidy format."
   ]
  },
  {
   "cell_type": "code",
   "execution_count": 10,
   "id": "b902ee9a",
   "metadata": {},
   "outputs": [
    {
     "data": {
      "text/html": [
       "<div>\n",
       "<style scoped>\n",
       "    .dataframe tbody tr th:only-of-type {\n",
       "        vertical-align: middle;\n",
       "    }\n",
       "\n",
       "    .dataframe tbody tr th {\n",
       "        vertical-align: top;\n",
       "    }\n",
       "\n",
       "    .dataframe thead th {\n",
       "        text-align: right;\n",
       "    }\n",
       "</style>\n",
       "<table border=\"1\" class=\"dataframe\">\n",
       "  <thead>\n",
       "    <tr style=\"text-align: right;\">\n",
       "      <th></th>\n",
       "      <th>NCESSCH School ID</th>\n",
       "      <th>CT Unemployment Rate</th>\n",
       "      <th>CT Pct Adults with College Degree</th>\n",
       "      <th>CT Pct Childre In Married Couple Family</th>\n",
       "      <th>CT Median Household Income</th>\n",
       "      <th>School ACT average (or equivalent if SAT score)</th>\n",
       "      <th>School Pct Free and Reduced Lunch</th>\n",
       "    </tr>\n",
       "  </thead>\n",
       "  <tbody>\n",
       "    <tr>\n",
       "      <th>0</th>\n",
       "      <td>100001600143</td>\n",
       "      <td>0.117962</td>\n",
       "      <td>0.445283</td>\n",
       "      <td>0.346495</td>\n",
       "      <td>42820.0</td>\n",
       "      <td>20.433455</td>\n",
       "      <td>0.066901</td>\n",
       "    </tr>\n",
       "    <tr>\n",
       "      <th>1</th>\n",
       "      <td>100008000024</td>\n",
       "      <td>0.063984</td>\n",
       "      <td>0.662765</td>\n",
       "      <td>0.767619</td>\n",
       "      <td>89320.0</td>\n",
       "      <td>19.498168</td>\n",
       "      <td>0.112412</td>\n",
       "    </tr>\n",
       "    <tr>\n",
       "      <th>2</th>\n",
       "      <td>100008000225</td>\n",
       "      <td>0.056460</td>\n",
       "      <td>0.701864</td>\n",
       "      <td>0.713090</td>\n",
       "      <td>84140.0</td>\n",
       "      <td>19.554335</td>\n",
       "      <td>0.096816</td>\n",
       "    </tr>\n",
       "    <tr>\n",
       "      <th>3</th>\n",
       "      <td>100017000029</td>\n",
       "      <td>0.044739</td>\n",
       "      <td>0.692062</td>\n",
       "      <td>0.641283</td>\n",
       "      <td>56500.0</td>\n",
       "      <td>17.737485</td>\n",
       "      <td>0.296960</td>\n",
       "    </tr>\n",
       "    <tr>\n",
       "      <th>4</th>\n",
       "      <td>100018000040</td>\n",
       "      <td>0.077014</td>\n",
       "      <td>0.640060</td>\n",
       "      <td>0.834402</td>\n",
       "      <td>54015.0</td>\n",
       "      <td>18.245421</td>\n",
       "      <td>0.262641</td>\n",
       "    </tr>\n",
       "  </tbody>\n",
       "</table>\n",
       "</div>"
      ],
      "text/plain": [
       "  NCESSCH School ID  CT Unemployment Rate  CT Pct Adults with College Degree  \\\n",
       "0      100001600143              0.117962                           0.445283   \n",
       "1      100008000024              0.063984                           0.662765   \n",
       "2      100008000225              0.056460                           0.701864   \n",
       "3      100017000029              0.044739                           0.692062   \n",
       "4      100018000040              0.077014                           0.640060   \n",
       "\n",
       "   CT Pct Childre In Married Couple Family  CT Median Household Income  \\\n",
       "0                                 0.346495                     42820.0   \n",
       "1                                 0.767619                     89320.0   \n",
       "2                                 0.713090                     84140.0   \n",
       "3                                 0.641283                     56500.0   \n",
       "4                                 0.834402                     54015.0   \n",
       "\n",
       "   School ACT average (or equivalent if SAT score)  \\\n",
       "0                                        20.433455   \n",
       "1                                        19.498168   \n",
       "2                                        19.554335   \n",
       "3                                        17.737485   \n",
       "4                                        18.245421   \n",
       "\n",
       "   School Pct Free and Reduced Lunch  \n",
       "0                           0.066901  \n",
       "1                           0.112412  \n",
       "2                           0.096816  \n",
       "3                           0.296960  \n",
       "4                           0.262641  "
      ]
     },
     "execution_count": 10,
     "metadata": {},
     "output_type": "execute_result"
    }
   ],
   "source": [
    "edgap.head()"
   ]
  },
  {
   "cell_type": "code",
   "execution_count": null,
   "id": "4c0e90db",
   "metadata": {},
   "outputs": [],
   "source": []
  }
 ],
 "metadata": {
  "kernelspec": {
   "display_name": "venv",
   "language": "python",
   "name": "python3"
  },
  "language_info": {
   "codemirror_mode": {
    "name": "ipython",
    "version": 3
   },
   "file_extension": ".py",
   "mimetype": "text/x-python",
   "name": "python",
   "nbconvert_exporter": "python",
   "pygments_lexer": "ipython3",
   "version": "3.9.6"
  }
 },
 "nbformat": 4,
 "nbformat_minor": 5
}
